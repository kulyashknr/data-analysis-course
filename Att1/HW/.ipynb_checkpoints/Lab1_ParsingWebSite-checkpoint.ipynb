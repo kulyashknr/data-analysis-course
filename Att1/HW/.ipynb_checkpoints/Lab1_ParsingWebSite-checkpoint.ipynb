{
 "cells": [
  {
   "cell_type": "code",
   "execution_count": 1,
   "id": "9d5f5a00",
   "metadata": {},
   "outputs": [
    {
     "name": "stdout",
     "output_type": "stream",
     "text": [
      "Requirement already satisfied: tqdm in /Library/Frameworks/Python.framework/Versions/3.7/lib/python3.7/site-packages (4.62.3)\n",
      "Note: you may need to restart the kernel to use updated packages.\n"
     ]
    }
   ],
   "source": [
    "pip install tqdm"
   ]
  },
  {
   "cell_type": "code",
   "execution_count": 2,
   "id": "404a918f",
   "metadata": {},
   "outputs": [],
   "source": [
    "import requests\n",
    "import math\n",
    "from bs4 import BeautifulSoup\n",
    "import json\n",
    "from tqdm import tqdm"
   ]
  },
  {
   "cell_type": "code",
   "execution_count": 3,
   "id": "a6fa5263",
   "metadata": {},
   "outputs": [],
   "source": [
    "cnt = 1\n",
    "size = 21\n",
    "BASE_URL = f\"https://market.kz/almaty/elektronika/telefony/?page={cnt}\""
   ]
  },
  {
   "cell_type": "code",
   "execution_count": 4,
   "id": "38894188",
   "metadata": {},
   "outputs": [],
   "source": [
    "res = requests.get(BASE_URL)\n",
    "soup = BeautifulSoup(res.content)"
   ]
  },
  {
   "cell_type": "code",
   "execution_count": 5,
   "id": "7bd8c7d0",
   "metadata": {},
   "outputs": [],
   "source": [
    "def parse_page(soup):\n",
    "    links = soup.select(\"div.a-card__title > a\")\n",
    "    #titles = soup.select(\"div.a-card__title > a\")\n",
    "    dict_goods = dict()\n",
    "    for link in links:\n",
    "        #print(link)\n",
    "        for id in links:\n",
    "            dict_goods[link['data-product-id']] = link['href']\n",
    "    return dict_goods"
   ]
  },
  {
   "cell_type": "code",
   "execution_count": 6,
   "id": "17f89e96",
   "metadata": {},
   "outputs": [],
   "source": [
    "class Ads(object):\n",
    "    url = \"\"\n",
    "    title = \"\"\n",
    "    price = \"\"\n",
    "    date = \"\"\n",
    "    description = \"\"\n",
    "    \n",
    "def make_ads(url,title,price,date,description):\n",
    "    ad = Ads()\n",
    "    ad.url = url\n",
    "    ad.title = title\n",
    "    ad.price = price\n",
    "    ad.date = date\n",
    "    ad.description\n",
    "    return ad.url, ad.title, ad.price, ad.date, ad.description"
   ]
  },
  {
   "cell_type": "code",
   "execution_count": 7,
   "id": "d844597e",
   "metadata": {},
   "outputs": [
    {
     "name": "stdout",
     "output_type": "stream",
     "text": [
      "['Найдено', '2', '666', 'объявлений']\n",
      "2666\n"
     ]
    }
   ],
   "source": [
    "goods_num = ''\n",
    "search_info = list(soup.select(\"#content-left > div.search-info > span\"))[0].text.split(\" \")\n",
    "print(search_info)\n",
    "for digit in search_info[1:-1]:\n",
    "    goods_num += digit\n",
    "print(goods_num)"
   ]
  },
  {
   "cell_type": "code",
   "execution_count": 8,
   "id": "0a47835d",
   "metadata": {},
   "outputs": [],
   "source": [
    "goods = parse_page(soup)\n",
    "#print(goods)"
   ]
  },
  {
   "cell_type": "code",
   "execution_count": 9,
   "id": "f2a72309",
   "metadata": {},
   "outputs": [
    {
     "name": "stderr",
     "output_type": "stream",
     "text": [
      "100%|█████████████████████████████████████████████| 3/3 [00:46<00:00, 15.63s/it]\n"
     ]
    }
   ],
   "source": [
    "pages_amount = math.ceil(int(goods_num)/size)\n",
    "ads = []\n",
    "for cnt in tqdm(range(1,4)):#pages_amount)):\n",
    "    BASE_URL = f\"https://market.kz/almaty/elektronika/telefony/?page={cnt}\"\n",
    "    res = requests.get(BASE_URL)\n",
    "    if res.status_code == 200:\n",
    "        soup = BeautifulSoup(res.content)\n",
    "        goods.update(parse_page(soup))\n",
    "        #print(BASE_URL)\n",
    "        for ad in list(goods.items()):\n",
    "            ad_url = ad[1]\n",
    "            res = requests.get(ad_url)\n",
    "            soup = BeautifulSoup(res.content)\n",
    "            ad_title = str(soup.select(\"#content > div.container.flex > div.show-block-left > div.flex > div > div.show-header > h1\")[0].text).strip()\n",
    "            ad_price = str(soup.select(\"#content > div.container.flex > div.show-block-right > div.offer__sidebar-wr.hot-right-container > div.offer__sidebar-sticky > div.offer__sidebar-contacts > div.misc-fields.field-price > div > dl > dd\")[0].text).strip()\n",
    "            ad_date = str(soup.select(\"#content > div.container.flex > div.show-block-left > div.flex > div > div.show-page__bottom-info > div.stats > div > span:nth-child(2)\")[0].text).strip()[2:]\n",
    "            ad_description = str(soup.select(\"#content > div.container.flex > div.show-block-left > div.flex > div > div.description > p\")[0].text).strip()\n",
    "            ad = make_ads(ad_url,ad_title,ad_price,ad_date,ad_description)\n",
    "            ads.append(ad)\n",
    "        #print(ads)\n",
    "    else:\n",
    "        print(res.status_code, \" \", BASE_URL)"
   ]
  },
  {
   "cell_type": "code",
   "execution_count": 21,
   "id": "66ae3e07",
   "metadata": {},
   "outputs": [],
   "source": [
    "with open(\"goods.json\",\"w\") as fh:\n",
    "    json.dump(goods,fh,indent=2)"
   ]
  },
  {
   "cell_type": "code",
   "execution_count": 11,
   "id": "bd655b5b",
   "metadata": {},
   "outputs": [
    {
     "ename": "SyntaxError",
     "evalue": "EOF while scanning triple-quoted string literal (3124124078.py, line 10)",
     "output_type": "error",
     "traceback": [
      "\u001b[0;36m  File \u001b[0;32m\"/var/folders/hz/jm00xhqx2v5g2zp5stb9zf000000gn/T/ipykernel_28918/3124124078.py\"\u001b[0;36m, line \u001b[0;32m10\u001b[0m\n\u001b[0;31m    print(ads)\u001b[0m\n\u001b[0m              \n^\u001b[0m\n\u001b[0;31mSyntaxError\u001b[0m\u001b[0;31m:\u001b[0m EOF while scanning triple-quoted string literal\n"
     ]
    }
   ],
   "source": [
    "''''for ad in tqdm(list(goods.items())):\n",
    "    ad_url = ad[1]\n",
    "    res = requests.get(ad_url)\n",
    "    soup = BeautifulSoup(res.content)\n",
    "ad_title = str(soup.select(\"#content > div.container.flex > div.show-block-left > div.flex > div > div.show-header > h1\")[0].text).strip()\n",
    "ad_price = str(soup.select(\"#content > div.container.flex > div.show-block-right > div.offer__sidebar-wr.hot-right-container > div.offer__sidebar-sticky > div.offer__sidebar-contacts > div.misc-fields.field-price > div > dl > dd\")[0].text).strip()\n",
    "ad_date = str(soup.select(\"#content > div.container.flex > div.show-block-left > div.flex > div > div.show-page__bottom-info > div.stats > div > span:nth-child(2)\")[0].text).strip()[2:]\n",
    "ad_description = str(soup.select(\"#content > div.container.flex > div.show-block-left > div.flex > div > div.description > p\")[0].text).strip()\n",
    "ads = make_ads(ad_url,ad_title,ad_price,ad_date,ad_description)\n",
    "print(ads)"
   ]
  },
  {
   "cell_type": "code",
   "execution_count": 20,
   "id": "40faa9d3",
   "metadata": {},
   "outputs": [],
   "source": [
    "with open(\"ads.json\",\"w\") as fh:\n",
    "    json.dump(ads,fh,indent=2)"
   ]
  },
  {
   "cell_type": "code",
   "execution_count": 45,
   "id": "eee07f1d",
   "metadata": {},
   "outputs": [],
   "source": [
    "encoded_ads = []\n",
    "for ad in ads:\n",
    "    for x in ad:\n",
    "        x.encode('utf-8')\n",
    "        encoded_ads.append(x)\n",
    "with open(\"encoded_ads.json\",\"w\") as fh:\n",
    "    json.dump(ads,fh,indent=2)"
   ]
  },
  {
   "cell_type": "code",
   "execution_count": null,
   "id": "44100280",
   "metadata": {},
   "outputs": [],
   "source": []
  }
 ],
 "metadata": {
  "kernelspec": {
   "display_name": "Python 3 (ipykernel)",
   "language": "python",
   "name": "python3"
  },
  "language_info": {
   "codemirror_mode": {
    "name": "ipython",
    "version": 3
   },
   "file_extension": ".py",
   "mimetype": "text/x-python",
   "name": "python",
   "nbconvert_exporter": "python",
   "pygments_lexer": "ipython3",
   "version": "3.7.0"
  }
 },
 "nbformat": 4,
 "nbformat_minor": 5
}
