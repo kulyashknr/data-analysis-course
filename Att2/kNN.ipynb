{
 "cells": [
  {
   "cell_type": "code",
   "execution_count": 23,
   "id": "82ec5ca9",
   "metadata": {},
   "outputs": [],
   "source": [
    "import numpy as np\n",
    "import pandas as pd\n",
    "from sklearn import datasets\n",
    "from numpy.random import randint\n",
    "from scipy.stats import mode"
   ]
  },
  {
   "cell_type": "code",
   "execution_count": 24,
   "id": "71dc9325",
   "metadata": {},
   "outputs": [],
   "source": [
    "iris = datasets.load_iris()\n",
    "\n",
    "x = iris.data\n",
    "y = iris.target\n",
    " \n",
    " \n",
    "\n",
    "train_idx = xxx = randint(0,150,100)\n",
    "x_train = x[train_idx]\n",
    "y_train = y[train_idx]\n",
    " \n",
    "test_idx = xxx = randint(0,150,50) \n",
    "x_test = x[test_idx]\n",
    "y_test = y[test_idx]"
   ]
  },
  {
   "cell_type": "code",
   "execution_count": 25,
   "id": "7c702dd5",
   "metadata": {},
   "outputs": [],
   "source": [
    "def calculate_distance(a,b):\n",
    "    dist = 0.0\n",
    "    dist = np.square(a - b)   \n",
    "    return np.sqrt(dist)"
   ]
  },
  {
   "cell_type": "code",
   "execution_count": 28,
   "id": "824298e8",
   "metadata": {},
   "outputs": [],
   "source": [
    "def prediction(x_train, y , x, k):\n",
    "    labels = []\n",
    "     \n",
    "    for i in x:         \n",
    "        arr_dists = []\n",
    "        for j in range(len(x_train)): \n",
    "            distances = calculate_distance(np.array(x_train[j,:]), i) \n",
    "            arr_dists.append(distances) \n",
    "        \n",
    "        arr_dists = np.array(arr_dists) \n",
    "        dist = np.argsort(arr_dists)[:k] \n",
    "        labels = y[dist]\n",
    "         \n",
    "        label = mode(labels) \n",
    "        label = label.mode[0]\n",
    "        labels += label\n",
    " \n",
    "    return labels"
   ]
  },
  {
   "cell_type": "code",
   "execution_count": 31,
   "id": "7930cb97",
   "metadata": {},
   "outputs": [
    {
     "data": {
      "text/plain": [
       "array([[0, 0, 2, 4],\n",
       "       [0, 2, 2, 2],\n",
       "       [0, 0, 2, 4],\n",
       "       [0, 1, 3, 2],\n",
       "       [0, 0, 2, 4]])"
      ]
     },
     "execution_count": 31,
     "metadata": {},
     "output_type": "execute_result"
    }
   ],
   "source": [
    "y_pred = prediction(x_train, y_train, x_test, 5)\n",
    "y_pred"
   ]
  },
  {
   "cell_type": "code",
   "execution_count": null,
   "id": "695284b5",
   "metadata": {},
   "outputs": [],
   "source": []
  }
 ],
 "metadata": {
  "kernelspec": {
   "display_name": "Python 3 (ipykernel)",
   "language": "python",
   "name": "python3"
  },
  "language_info": {
   "codemirror_mode": {
    "name": "ipython",
    "version": 3
   },
   "file_extension": ".py",
   "mimetype": "text/x-python",
   "name": "python",
   "nbconvert_exporter": "python",
   "pygments_lexer": "ipython3",
   "version": "3.7.0"
  }
 },
 "nbformat": 4,
 "nbformat_minor": 5
}
